{
 "cells": [
  {
   "cell_type": "code",
   "execution_count": null,
   "metadata": {},
   "outputs": [],
   "source": [
    "# This Python 3 environment comes with many helpful analytics libraries installed\n",
    "# It is defined by the kaggle/python docker image: https://github.com/kaggle/docker-python\n",
    "# For example, here's several helpful packages to load in \n",
    "\n",
    "import numpy as np # linear algebra\n",
    "import pandas as pd # data processing, CSV file I/O (e.g. pd.read_csv)\n",
    "import matplotlib\n",
    "import matplotlib.pyplot as plt\n",
    "import seaborn as sns\n",
    "\n",
    "# Input data files are available in the \"../input/\" directory.\n",
    "# For example, running this (by clicking run or pressing Shift+Enter) will list all files under the input directory\n",
    "\n",
    "\n",
    "# Any results you write to the current directory are saved as output."
   ]
  },
  {
   "cell_type": "code",
   "execution_count": null,
   "metadata": {},
   "outputs": [],
   "source": [
    "# Location of the training images\n",
    "\n",
    "BASE_PATH = '../input/prostate-cancer-grade-assessment'\n",
    "\n",
    "# image and mask directories\n",
    "data_dir = f'{BASE_PATH}/train_images'\n",
    "mask_dir = f'{BASE_PATH}/train_label_masks'"
   ]
  },
  {
   "cell_type": "code",
   "execution_count": null,
   "metadata": {},
   "outputs": [],
   "source": [
    "# Location of training labels\n",
    "train = pd.read_csv(f'{BASE_PATH}/train.csv').set_index('image_id')\n",
    "test = pd.read_csv(f'{BASE_PATH}/test.csv')\n",
    "submission = pd.read_csv(f'{BASE_PATH}/sample_submission.csv')"
   ]
  },
  {
   "cell_type": "code",
   "execution_count": null,
   "metadata": {},
   "outputs": [],
   "source": [
    "display(train.head())\n",
    "print(\"Shape of training data :\", train.shape)\n",
    "print(\"unique data provider :\", len(train.data_provider.unique()))\n",
    "print(\"unique isup_grade(target) :\", len(train.isup_grade.unique()))\n",
    "print(\"unique gleason_score :\", len(train.gleason_score.unique()))"
   ]
  },
  {
   "cell_type": "code",
   "execution_count": null,
   "metadata": {},
   "outputs": [],
   "source": [
    "train.isna().sum()"
   ]
  },
  {
   "cell_type": "code",
   "execution_count": null,
   "metadata": {},
   "outputs": [],
   "source": [
    "display(test.head())\n",
    "print(\"Shape of training data :\", test.shape)\n",
    "print(\"unique data provider :\", len(test.data_provider.unique()))"
   ]
  },
  {
   "cell_type": "code",
   "execution_count": null,
   "metadata": {},
   "outputs": [],
   "source": [
    "def plot_count(df, feature, title='', size=2):\n",
    "    # fがFigureオブジェクト, axがAxesオブジェクト\n",
    "    f, ax = plt.subplots(1,1, figsize=(4*size,3*size))\n",
    "    \n",
    "    # dataの総数\n",
    "    total = float(len(df))\n",
    "    \n",
    "    # グラフを作成している\n",
    "    sns.countplot(df[feature],order = df[feature].value_counts().index, palette='Set2')\n",
    "    plt.title(title)\n",
    "    \n",
    "    # Rectangleオブジェクトのリストでfor文を回している。(Rectangleオブジェクトはいわばグラフに使われる長方形の情報)\n",
    "    # for文内の目的は、ヒストグラムの％を数値で図中に表示すること。\n",
    "    for p in ax.patches:\n",
    "        height = p.get_height()\n",
    "        ax.text(p.get_x()+p.get_width()/2.,\n",
    "                height + 3,\n",
    "                '{:1.2f}%'.format(100*height/total),\n",
    "                ha=\"center\") \n",
    "    plt.show()"
   ]
  },
  {
   "cell_type": "code",
   "execution_count": null,
   "metadata": {},
   "outputs": [],
   "source": [
    "# dataのproviderについての分布\n",
    "plot_count(df=train, feature='data_provider', title = 'data_provider count and %age plot')"
   ]
  },
  {
   "cell_type": "code",
   "execution_count": null,
   "metadata": {},
   "outputs": [],
   "source": [
    "# ISUPについての分布\n",
    "plot_count(df=train, feature='isup_grade', title = 'isup_grade count and %age plot')"
   ]
  },
  {
   "cell_type": "code",
   "execution_count": null,
   "metadata": {},
   "outputs": [],
   "source": [
    "# GLEASONスコアについての分布\n",
    "plot_count(df=train, feature='gleason_score', title = 'gleason_score count and %age plot', size=3)"
   ]
  },
  {
   "cell_type": "code",
   "execution_count": null,
   "metadata": {},
   "outputs": [],
   "source": [
    "def plot_relative_distribution(df, feature, hue, title='', size=2):\n",
    "    f, ax = plt.subplots(1,1, figsize=(4*size,3*size))\n",
    "    total = float(len(df))\n",
    "    \n",
    "    # hueは各軸をさらに分割化する場合、使用する列名を指定\n",
    "    sns.countplot(x=feature, hue=hue, data=df, palette='Set2')\n",
    "    plt.title(title)\n",
    "    for p in ax.patches:\n",
    "        height = p.get_height()\n",
    "        ax.text(p.get_x()+p.get_width()/2.,\n",
    "                height + 3,\n",
    "                '{:1.2f}%'.format(100*height/total),\n",
    "                ha=\"center\") \n",
    "    plt.show()"
   ]
  },
  {
   "cell_type": "code",
   "execution_count": null,
   "metadata": {},
   "outputs": [],
   "source": [
    "# ISUPのグレードとdataのprovider先との相関関係\n",
    "plot_relative_distribution(df=train, feature='isup_grade', hue='data_provider', title = 'relative count plot of isup_grade with data_provider', size=2)"
   ]
  },
  {
   "cell_type": "code",
   "execution_count": null,
   "metadata": {},
   "outputs": [],
   "source": [
    "# GLEASONスコアとdataのprovider先との相関関係\n",
    "plot_relative_distribution(df=train, feature='gleason_score', hue='data_provider', title = 'relative count plot of gleason_score with data_provider', size=3)\n"
   ]
  },
  {
   "cell_type": "code",
   "execution_count": null,
   "metadata": {},
   "outputs": [],
   "source": [
    "# ISUPのグレードとGLEASONスコアとの相関関係\n",
    "plot_relative_distribution(df=train, feature='isup_grade', hue='gleason_score', title = 'relative count plot of isup_grade with gleason_score', size=3)\n"
   ]
  }
 ],
 "metadata": {
  "kernelspec": {
   "display_name": "Python 3",
   "language": "python",
   "name": "python3"
  }
 },
 "nbformat": 4,
 "nbformat_minor": 4
}
